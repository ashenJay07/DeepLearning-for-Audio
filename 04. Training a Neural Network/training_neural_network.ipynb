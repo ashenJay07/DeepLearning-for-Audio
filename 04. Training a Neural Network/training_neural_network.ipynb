{
  "nbformat": 4,
  "nbformat_minor": 0,
  "metadata": {
    "colab": {
      "provenance": []
    },
    "kernelspec": {
      "name": "python3",
      "display_name": "Python 3"
    },
    "language_info": {
      "name": "python"
    }
  },
  "cells": [
    {
      "cell_type": "code",
      "execution_count": 40,
      "metadata": {
        "id": "N9qdjBSJWLsn"
      },
      "outputs": [],
      "source": [
        "import numpy as np\n",
        "from random import random"
      ]
    },
    {
      "cell_type": "code",
      "source": [
        "# Table of Contents :\n",
        "#     1. save activation and derivatives\n",
        "#     2. implement backpropagation\n",
        "#     3. implement gradient descent\n",
        "#     4. implement train\n",
        "#     5. train our network with some dummy dataset\n",
        "#     6. make predictions"
      ],
      "metadata": {
        "id": "zHE9rm7GKFlp"
      },
      "execution_count": 5,
      "outputs": []
    },
    {
      "cell_type": "code",
      "source": [
        "# Multilayer Perceptron (MLP): Forward Propagation\n",
        "class MLP:\n",
        "  def __init__(self, num_inputs=3, num_hidden=[3, 5], num_outputs=2):\n",
        "    self.num_inputs = num_inputs\n",
        "    self.num_hidden = num_hidden\n",
        "    self.num_outputs = num_outputs\n",
        "\n",
        "    layers = [self.num_inputs] + num_hidden + [self.num_outputs]\n",
        "\n",
        "    # Initiate random weights\n",
        "    self.weights = []\n",
        "    for i in range(len(layers) - 1):\n",
        "      w = np.random.rand(layers[i], layers[i+1])\n",
        "      self.weights.append(w)\n",
        "\n",
        "    # Save activation\n",
        "    self.activations = []\n",
        "    for i in range(len(layers)):\n",
        "      a = np.zeros(layers[i])\n",
        "      self.activations.append(a)\n",
        "\n",
        "    # Save derivatives\n",
        "    self.derivatives = []\n",
        "    for i in range(len(layers) - 1):\n",
        "      d = np.zeros((layers[i], layers[i+1]))\n",
        "      self.derivatives.append(d)\n",
        "\n",
        "\n",
        "  # Implement forward propagation\n",
        "  def forward_propagate(self, inputs):\n",
        "    activations = inputs  # the input layer activation is just the input itself\n",
        "    self.activations[0] = inputs\n",
        "\n",
        "    for i, w in enumerate(self.weights):\n",
        "      # Calculate matrix multiplication between previous activation and weight matrix\n",
        "      net_inputs = np.dot(activations, w)\n",
        "\n",
        "      # Applv sigmoid activation function\n",
        "      activations = self._sigmoid(net_inputs)\n",
        "      self.activations[i+1] = activations\n",
        "\n",
        "    # Return output layer activation\n",
        "    return activations\n",
        "\n",
        "\n",
        "  # Implement forward propagation\n",
        "  def back_propagate(self, error, verbose=False):\n",
        "    # Looping all the layers (last to first)\n",
        "    for i in reversed(range(len(self.derivatives))):\n",
        "      activations = self.activations[i+1]\n",
        "      delta = error * self._sigmoid_derivative(activations)  # Before reshape: ndarray([0.1, 0.2]) --> After reshape: ndarray([[0.1, 0.2]])\n",
        "      delta_reshaped = delta.reshape(delta.shape[0], -1).T  # Reshaping delta\n",
        "      current_activations = self.activations[i]  # Before reshape: ndarray([0.1, 0.2]) --> After reshape: ndarray([[0.1], [0.2]])\n",
        "      current_activations_reshaped = current_activations.reshape(current_activations.shape[0], -1)  # Reshaping activations\n",
        "      self.derivatives[i] = np.dot(current_activations_reshaped, delta_reshaped)\n",
        "      error = np.dot(delta, self.weights[i].T)\n",
        "\n",
        "      if verbose:\n",
        "        print(\"Derivatives for W{}: {}\".format(i, self.derivatives[i]))\n",
        "\n",
        "    return error;\n",
        "\n",
        "\n",
        "  # Implement gradient descent\n",
        "  def gradient_descent(self, learning_rate):\n",
        "    for i in range(len(self.weights)):\n",
        "      weights = self.weights[i]\n",
        "      # print(\"Original W{} {}\".format(i, weights))\n",
        "      derivatives = self.derivatives[i]\n",
        "      weights += derivatives * learning_rate\n",
        "      # print(\"Updated W{} {}\".format(i, weights))\n",
        "\n",
        "\n",
        "  def train(self, inputs, targets, epochs, learning_rate):\n",
        "    for i in range(epochs):\n",
        "      sum_error = 0\n",
        "      # Trick: for j, (input, target) in enumerate(zip(inputs, targets)):\n",
        "      for input, target in zip(inputs, targets):\n",
        "        # Forward propagation\n",
        "        output = self.forward_propagate(input)\n",
        "\n",
        "        # Calculate error\n",
        "        error = target - output\n",
        "\n",
        "        # Back propagation\n",
        "        self.back_propagate(error)\n",
        "        # mlp.back_propagate(error, verbose=True)\n",
        "\n",
        "        # Apply gradient descent\n",
        "        self.gradient_descent(learning_rate)\n",
        "\n",
        "        # Calculating an error\n",
        "        sum_error += self._mse(target, output)\n",
        "\n",
        "      # report the error of each epoch\n",
        "      # print(\"Error: {} at epoch {}\".format((sum_error / len(inputs)), i))\n",
        "\n",
        "\n",
        "  def _mse(self, target, output):\n",
        "    return np.average((target - output) ** 2)\n",
        "\n",
        "  def _sigmoid_derivative(self, x):\n",
        "    return x * (1.0 - x)\n",
        "\n",
        "\n",
        "  # Implement sigmoid activation function\n",
        "  def _sigmoid(self, x):\n",
        "    y = 1.0 / (1 + np.exp(-x))\n",
        "    return y"
      ],
      "metadata": {
        "id": "OvHCx_4WWlg_"
      },
      "execution_count": 53,
      "outputs": []
    },
    {
      "cell_type": "code",
      "source": [
        "if __name__ == \"__main__\":\n",
        "  # Create a sample dataset to train a network for the sum operation\n",
        "  inputs = np.array([[random() / 2 for _ in range(2)] for _ in range(1000)])  # array([[0.1, 0.2], [0.3, 0.4]])\n",
        "  targets = np.array([[i[0] + i[1]] for i in inputs])    # array([0.3], [0.7]])\n",
        "\n",
        "  # Create a MLP object --> MPL(input_layers, hidden_layers, output_layers)\n",
        "  mlp = MLP(2, [5], 1)\n",
        "\n",
        "  # Train MLP\n",
        "  mlp.train(inputs, targets, 50, 0.1)\n",
        "\n",
        "  # Create dummy data\n",
        "  input = np.array([0.5, 0.3])\n",
        "  # target = np.array([0.8])\n",
        "\n",
        "  output = mlp.forward_propagate(input)\n",
        "  print(\"\\n\\nOur neural network believes that {} + {} is equal to {}.\".format(input[0], input[1], output[0]))\n",
        "\n",
        ""
      ],
      "metadata": {
        "colab": {
          "base_uri": "https://localhost:8080/"
        },
        "id": "l2go7tRtarkY",
        "outputId": "a15aa668-fee7-4b53-d543-4e127a7057f2"
      },
      "execution_count": 59,
      "outputs": [
        {
          "output_type": "stream",
          "name": "stdout",
          "text": [
            "\n",
            "\n",
            "Our neural network believes that 0.5 + 0.3 is equal to 0.7646870456438059.\n"
          ]
        }
      ]
    }
  ]
}