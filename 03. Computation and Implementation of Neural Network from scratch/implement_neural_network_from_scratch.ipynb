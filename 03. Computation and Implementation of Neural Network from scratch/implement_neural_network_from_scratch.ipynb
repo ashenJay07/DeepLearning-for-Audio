{
  "nbformat": 4,
  "nbformat_minor": 0,
  "metadata": {
    "colab": {
      "provenance": []
    },
    "kernelspec": {
      "name": "python3",
      "display_name": "Python 3"
    },
    "language_info": {
      "name": "python"
    }
  },
  "cells": [
    {
      "cell_type": "code",
      "execution_count": 1,
      "metadata": {
        "id": "N9qdjBSJWLsn"
      },
      "outputs": [],
      "source": [
        "import numpy as np"
      ]
    },
    {
      "cell_type": "code",
      "source": [
        "# Multilayer Perceptron (MLP): Forward Propagation\n",
        "class MLP:\n",
        "  def __init__(self, num_inputs=3, num_hidden=[3, 5], num_outputs=2):\n",
        "    self.num_inputs = num_inputs\n",
        "    self.num_hidden = num_hidden\n",
        "    self.num_outputs = num_outputs\n",
        "\n",
        "    layers = [self.num_inputs] + num_hidden + [self.num_outputs]\n",
        "\n",
        "    # Initiate random weights\n",
        "    self.weights = []\n",
        "    for i in range(len(layers) - 1):\n",
        "      w = np.random.rand(layers[i], layers[i + 1])\n",
        "      self.weights.append(w)\n",
        "\n",
        "\n",
        "  # Implement forward propagation\n",
        "  def forward_propagate(self, inputs):\n",
        "    activations = inputs\n",
        "\n",
        "    for w in self.weights:\n",
        "      # Calculate net inputs\n",
        "      net_inputs = np.dot(activations, w)\n",
        "\n",
        "      # Calculate the activations\n",
        "      activations = self._sigmoid(net_inputs)\n",
        "\n",
        "    return activations\n",
        "\n",
        "\n",
        "  # Implement sigmoid activation function\n",
        "  def _sigmoid(self, x):\n",
        "    return 1 / (1 + np.exp(-x))"
      ],
      "metadata": {
        "id": "OvHCx_4WWlg_"
      },
      "execution_count": 16,
      "outputs": []
    },
    {
      "cell_type": "code",
      "source": [
        "if __name__ == \"__main__\":\n",
        "  # Create a MLP\n",
        "  mlp = MLP()\n",
        "\n",
        "  # Create some inputs\n",
        "  inputs = np.random.rand(mlp.num_inputs)\n",
        "\n",
        "  # Perform forward prop\n",
        "  outputs = mlp.forward_propagate(inputs)\n",
        "\n",
        "  # Print the result\n",
        "  print(\"The network input is: {}\".format(inputs))\n",
        "  print(\"The network output is: {}\".format(outputs))"
      ],
      "metadata": {
        "colab": {
          "base_uri": "https://localhost:8080/"
        },
        "id": "l2go7tRtarkY",
        "outputId": "76776c1e-1a64-4d14-96c1-0ab7c3509c8a"
      },
      "execution_count": 17,
      "outputs": [
        {
          "output_type": "stream",
          "name": "stdout",
          "text": [
            "The network input is: [0.02625455 0.28456046 0.32882329]\n",
            "The network output is: [0.92031249 0.90381874]\n"
          ]
        }
      ]
    }
  ]
}