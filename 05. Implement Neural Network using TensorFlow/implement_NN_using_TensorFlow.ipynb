{
  "nbformat": 4,
  "nbformat_minor": 0,
  "metadata": {
    "colab": {
      "provenance": []
    },
    "kernelspec": {
      "name": "python3",
      "display_name": "Python 3"
    },
    "language_info": {
      "name": "python"
    }
  },
  "cells": [
    {
      "cell_type": "code",
      "source": [
        "import numpy as np\n",
        "from random import random\n",
        "from sklearn.model_selection import train_test_split"
      ],
      "metadata": {
        "id": "aOKH-X8rRxbl"
      },
      "execution_count": 4,
      "outputs": []
    },
    {
      "cell_type": "code",
      "execution_count": 6,
      "metadata": {
        "id": "urLEivxoQ6sL"
      },
      "outputs": [],
      "source": [
        "def generate_dataset(num_samples, test_size=0.3):\n",
        "  # Create dataset\n",
        "  x = np.array([[random() / 2 for _ in range(2)] for _ in range(num_samples)])\n",
        "  y = np.array([[i[0] + i[1]] for i in x])\n",
        "\n",
        "  # Create training and testing sets\n",
        "  x_train, x_test, y_train, y_test = train_test_split(x, y, test_size=test_size)\n",
        "  return x_train, x_test, y_train, y_test"
      ]
    },
    {
      "cell_type": "code",
      "source": [
        "if __name__ == \"__main__\":\n",
        "  x_train, x_test, y_train, y_test = generate_dataset(10, 0.2)\n",
        "  print(\"x_test: \\n{}\\n\".format(x_test))  # 2 x 2 matrix\n",
        "  print(\"y_test: \\n{}\".format(y_test))  # 2 x 1 matrix"
      ],
      "metadata": {
        "colab": {
          "base_uri": "https://localhost:8080/"
        },
        "id": "vSGYihdzSDmJ",
        "outputId": "54d31c70-af15-4582-88cb-ed6bb3010743"
      },
      "execution_count": 8,
      "outputs": [
        {
          "output_type": "stream",
          "name": "stdout",
          "text": [
            "x_test: \n",
            "[[0.36784484 0.10090732]\n",
            " [0.31085217 0.28256265]]\n",
            "\n",
            "y_test: \n",
            "[[0.46875216]\n",
            " [0.59341482]]\n"
          ]
        }
      ]
    },
    {
      "cell_type": "code",
      "source": [],
      "metadata": {
        "id": "wguiFf0aStms"
      },
      "execution_count": null,
      "outputs": []
    }
  ]
}