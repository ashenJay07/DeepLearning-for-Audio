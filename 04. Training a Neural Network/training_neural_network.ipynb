{
  "nbformat": 4,
  "nbformat_minor": 0,
  "metadata": {
    "colab": {
      "provenance": []
    },
    "kernelspec": {
      "name": "python3",
      "display_name": "Python 3"
    },
    "language_info": {
      "name": "python"
    }
  },
  "cells": [
    {
      "cell_type": "code",
      "execution_count": 18,
      "metadata": {
        "id": "N9qdjBSJWLsn"
      },
      "outputs": [],
      "source": [
        "import numpy as np"
      ]
    },
    {
      "cell_type": "code",
      "source": [
        "# Table of Contents :\n",
        "#     1. save activation and derivatives\n",
        "#     2. implement backpropagation\n",
        "#     3. implement gradient descent\n",
        "#     4. implement train\n",
        "#     5. train our network with some dummy dataset\n",
        "#     6. make predictions"
      ],
      "metadata": {
        "id": "zHE9rm7GKFlp"
      },
      "execution_count": 5,
      "outputs": []
    },
    {
      "cell_type": "code",
      "source": [
        "# Multilayer Perceptron (MLP): Forward Propagation\n",
        "class MLP:\n",
        "  def __init__(self, num_inputs=3, num_hidden=[3, 5], num_outputs=2):\n",
        "    self.num_inputs = num_inputs\n",
        "    self.num_hidden = num_hidden\n",
        "    self.num_outputs = num_outputs\n",
        "\n",
        "    layers = [self.num_inputs] + num_hidden + [self.num_outputs]\n",
        "\n",
        "    # Initiate random weights\n",
        "    self.weights = []\n",
        "    for i in range(len(layers) - 1):\n",
        "      w = np.random.rand(layers[i], layers[i+1])\n",
        "      self.weights.append(w)\n",
        "\n",
        "    # Save activation\n",
        "    self.activations = []\n",
        "    for i in range(len(layers)):\n",
        "      a = np.zeros(layers[i])\n",
        "      self.activations.append(a)\n",
        "\n",
        "    # Save derivatives\n",
        "    self.derivatives = []\n",
        "    for i in range(len(layers) - 1):\n",
        "      d = np.zeros((layers[i], layers[i+1]))\n",
        "      self.derivatives.append(d)\n",
        "\n",
        "\n",
        "  # Implement forward propagation\n",
        "  def forward_propagate(self, inputs):\n",
        "    activations = inputs  # the input layer activation is just the input itself\n",
        "    self.activations[0] = inputs\n",
        "\n",
        "    for i, w in enumerate(self.weights):\n",
        "      # Calculate matrix multiplication between previous activation and weight matrix\n",
        "      net_inputs = np.dot(activations, w)\n",
        "\n",
        "      # Applv sigmoid activation function\n",
        "      activations = self._sigmoid(net_inputs)\n",
        "      self.activations[i+1] = activations\n",
        "\n",
        "    # Return output layer activation\n",
        "    return activations\n",
        "\n",
        "\n",
        "  # Implement forward propagation\n",
        "  def back_propagate(self, error, verbose=False):\n",
        "    # Looping all the layers (last to first)\n",
        "    for i in reversed(range(len(self.derivatives))):\n",
        "      activations = self.activations[i+1]\n",
        "      delta = error * self._sigmoid_derivative(activations)  # Before reshape: ndarray([0.1, 0.2]) --> After reshape: ndarray([[0.1, 0.2]])\n",
        "      delta_reshaped = delta.reshape(delta.shape[0], -1).T  # Reshaping delta\n",
        "      current_activations = self.activations[i]  # Before reshape: ndarray([0.1, 0.2]) --> After reshape: ndarray([[0.1], [0.2]])\n",
        "      current_activations_reshaped = current_activations.reshape(current_activations.shape[0], -1)  # Reshaping activations\n",
        "      self.derivatives[i] = np.dot(current_activations_reshaped, delta_reshaped)\n",
        "      error = np.dot(delta, self.weights[i].T)\n",
        "\n",
        "      if verbose:\n",
        "        print(\"Derivatives for W{}: {}\".format(i, self.derivatives[i]))\n",
        "\n",
        "    return error;\n",
        "\n",
        "\n",
        "  # Implement gradient descent\n",
        "  def gradient_descent(self, learning_rate):\n",
        "    for i in range(len(self.weights)):\n",
        "      weights = self.weights[i]\n",
        "      print(\"Original W{} {}\".format(i, weights))\n",
        "      derivatives = self.derivatives[i]\n",
        "      weights += derivatives * learning_rate\n",
        "      print(\"Updated W{} {}\".format(i, weights))\n",
        "\n",
        "\n",
        "  def _sigmoid_derivative(self, x):\n",
        "    return x * (1.0 - x)\n",
        "\n",
        "\n",
        "  # Implement sigmoid activation function\n",
        "  def _sigmoid(self, x):\n",
        "    y = 1.0 / (1 + np.exp(-x))\n",
        "    return y"
      ],
      "metadata": {
        "id": "OvHCx_4WWlg_"
      },
      "execution_count": 37,
      "outputs": []
    },
    {
      "cell_type": "code",
      "source": [
        "if __name__ == \"__main__\":\n",
        "  # Create a MLP object --> MPL(input_layers, hidden_layers, output_layers)\n",
        "  mlp = MLP(2, [3], 1)\n",
        "\n",
        "  # Create dummy data\n",
        "  input = np.array([0.1, 0.2])\n",
        "  target = np.array([0.3])\n",
        "\n",
        "  # Forward propagation\n",
        "  output = mlp.forward_propagate(input)\n",
        "\n",
        "  # Calculate error\n",
        "  error = target - output\n",
        "\n",
        "  # Back propagation\n",
        "  mlp.back_propagate(error)\n",
        "  # mlp.back_propagate(error, verbose=True)\n",
        "\n",
        "  # Apply gradient descent\n",
        "  mlp.gradient_descent(learning_rate=0.1)"
      ],
      "metadata": {
        "colab": {
          "base_uri": "https://localhost:8080/"
        },
        "id": "l2go7tRtarkY",
        "outputId": "f78437bf-5307-4c46-e853-d60db77a0b10"
      },
      "execution_count": 38,
      "outputs": [
        {
          "output_type": "stream",
          "name": "stdout",
          "text": [
            "Original W0 [[0.45640921 0.95008669 0.89558012]\n",
            " [0.44615568 0.25655416 0.90323365]]\n",
            "Updated W0 [[0.45640663 0.94997488 0.89553261]\n",
            " [0.44615052 0.25633053 0.90313863]]\n",
            "Original W1 [[0.01384719]\n",
            " [0.60047173]\n",
            " [0.25842619]]\n",
            "Updated W1 [[0.00985093]\n",
            " [0.59645414]\n",
            " [0.25417925]]\n"
          ]
        }
      ]
    }
  ]
}